{
  "nbformat": 4,
  "nbformat_minor": 0,
  "metadata": {
    "colab": {
      "name": "NLP Submission.ipynb",
      "provenance": []
    },
    "kernelspec": {
      "name": "python3",
      "display_name": "Python 3"
    }
  },
  "cells": [
    {
      "cell_type": "markdown",
      "metadata": {
        "id": "cF42OlP64VZq"
      },
      "source": [
        "IMPORT CSV FILE"
      ]
    },
    {
      "cell_type": "code",
      "metadata": {
        "id": "Y2sytTovBrgi"
      },
      "source": [
        "from sklearn.model_selection import  train_test_split\n",
        "import tensorflow as tf\n",
        "import matplotlib.pyplot as plt\n",
        "import pandas as pd\n",
        "from tensorflow.keras.preprocessing.text import Tokenizer\n",
        "from tensorflow.keras.preprocessing.sequence import pad_sequences"
      ],
      "execution_count": null,
      "outputs": []
    },
    {
      "cell_type": "code",
      "metadata": {
        "id": "EMDyuCAD3hbq",
        "outputId": "732356e7-56b8-46ee-fbd5-ff87cbb0a0e3",
        "colab": {
          "base_uri": "https://localhost:8080/",
          "height": 415
        }
      },
      "source": [
        "df = pd.read_csv('bbc.csv')\n",
        "df"
      ],
      "execution_count": null,
      "outputs": [
        {
          "output_type": "execute_result",
          "data": {
            "text/html": [
              "<div>\n",
              "<style scoped>\n",
              "    .dataframe tbody tr th:only-of-type {\n",
              "        vertical-align: middle;\n",
              "    }\n",
              "\n",
              "    .dataframe tbody tr th {\n",
              "        vertical-align: top;\n",
              "    }\n",
              "\n",
              "    .dataframe thead th {\n",
              "        text-align: right;\n",
              "    }\n",
              "</style>\n",
              "<table border=\"1\" class=\"dataframe\">\n",
              "  <thead>\n",
              "    <tr style=\"text-align: right;\">\n",
              "      <th></th>\n",
              "      <th>category</th>\n",
              "      <th>text</th>\n",
              "    </tr>\n",
              "  </thead>\n",
              "  <tbody>\n",
              "    <tr>\n",
              "      <th>0</th>\n",
              "      <td>tech</td>\n",
              "      <td>tv future in the hands of viewers with home th...</td>\n",
              "    </tr>\n",
              "    <tr>\n",
              "      <th>1</th>\n",
              "      <td>business</td>\n",
              "      <td>worldcom boss  left books alone  former worldc...</td>\n",
              "    </tr>\n",
              "    <tr>\n",
              "      <th>2</th>\n",
              "      <td>sport</td>\n",
              "      <td>tigers wary of farrell  gamble  leicester say ...</td>\n",
              "    </tr>\n",
              "    <tr>\n",
              "      <th>3</th>\n",
              "      <td>sport</td>\n",
              "      <td>yeading face newcastle in fa cup premiership s...</td>\n",
              "    </tr>\n",
              "    <tr>\n",
              "      <th>4</th>\n",
              "      <td>entertainment</td>\n",
              "      <td>ocean s twelve raids box office ocean s twelve...</td>\n",
              "    </tr>\n",
              "    <tr>\n",
              "      <th>...</th>\n",
              "      <td>...</td>\n",
              "      <td>...</td>\n",
              "    </tr>\n",
              "    <tr>\n",
              "      <th>2220</th>\n",
              "      <td>business</td>\n",
              "      <td>cars pull down us retail figures us retail sal...</td>\n",
              "    </tr>\n",
              "    <tr>\n",
              "      <th>2221</th>\n",
              "      <td>politics</td>\n",
              "      <td>kilroy unveils immigration policy ex-chatshow ...</td>\n",
              "    </tr>\n",
              "    <tr>\n",
              "      <th>2222</th>\n",
              "      <td>entertainment</td>\n",
              "      <td>rem announce new glasgow concert us band rem h...</td>\n",
              "    </tr>\n",
              "    <tr>\n",
              "      <th>2223</th>\n",
              "      <td>politics</td>\n",
              "      <td>how political squabbles snowball it s become c...</td>\n",
              "    </tr>\n",
              "    <tr>\n",
              "      <th>2224</th>\n",
              "      <td>sport</td>\n",
              "      <td>souness delight at euro progress boss graeme s...</td>\n",
              "    </tr>\n",
              "  </tbody>\n",
              "</table>\n",
              "<p>2225 rows × 2 columns</p>\n",
              "</div>"
            ],
            "text/plain": [
              "           category                                               text\n",
              "0              tech  tv future in the hands of viewers with home th...\n",
              "1          business  worldcom boss  left books alone  former worldc...\n",
              "2             sport  tigers wary of farrell  gamble  leicester say ...\n",
              "3             sport  yeading face newcastle in fa cup premiership s...\n",
              "4     entertainment  ocean s twelve raids box office ocean s twelve...\n",
              "...             ...                                                ...\n",
              "2220       business  cars pull down us retail figures us retail sal...\n",
              "2221       politics  kilroy unveils immigration policy ex-chatshow ...\n",
              "2222  entertainment  rem announce new glasgow concert us band rem h...\n",
              "2223       politics  how political squabbles snowball it s become c...\n",
              "2224          sport  souness delight at euro progress boss graeme s...\n",
              "\n",
              "[2225 rows x 2 columns]"
            ]
          },
          "metadata": {
            "tags": []
          },
          "execution_count": 5
        }
      ]
    },
    {
      "cell_type": "code",
      "metadata": {
        "id": "y6FQT8YQ4REi",
        "outputId": "9111c9cf-9184-4903-ce89-bdf483b5e33a",
        "colab": {
          "base_uri": "https://localhost:8080/",
          "height": 415
        }
      },
      "source": [
        "category = pd.get_dummies(df.category)\n",
        "df_new = pd.concat([df, category], axis = 1)\n",
        "df_new = df_new.drop(columns = 'category')\n",
        "df_new"
      ],
      "execution_count": null,
      "outputs": [
        {
          "output_type": "execute_result",
          "data": {
            "text/html": [
              "<div>\n",
              "<style scoped>\n",
              "    .dataframe tbody tr th:only-of-type {\n",
              "        vertical-align: middle;\n",
              "    }\n",
              "\n",
              "    .dataframe tbody tr th {\n",
              "        vertical-align: top;\n",
              "    }\n",
              "\n",
              "    .dataframe thead th {\n",
              "        text-align: right;\n",
              "    }\n",
              "</style>\n",
              "<table border=\"1\" class=\"dataframe\">\n",
              "  <thead>\n",
              "    <tr style=\"text-align: right;\">\n",
              "      <th></th>\n",
              "      <th>text</th>\n",
              "      <th>business</th>\n",
              "      <th>entertainment</th>\n",
              "      <th>politics</th>\n",
              "      <th>sport</th>\n",
              "      <th>tech</th>\n",
              "    </tr>\n",
              "  </thead>\n",
              "  <tbody>\n",
              "    <tr>\n",
              "      <th>0</th>\n",
              "      <td>tv future in the hands of viewers with home th...</td>\n",
              "      <td>0</td>\n",
              "      <td>0</td>\n",
              "      <td>0</td>\n",
              "      <td>0</td>\n",
              "      <td>1</td>\n",
              "    </tr>\n",
              "    <tr>\n",
              "      <th>1</th>\n",
              "      <td>worldcom boss  left books alone  former worldc...</td>\n",
              "      <td>1</td>\n",
              "      <td>0</td>\n",
              "      <td>0</td>\n",
              "      <td>0</td>\n",
              "      <td>0</td>\n",
              "    </tr>\n",
              "    <tr>\n",
              "      <th>2</th>\n",
              "      <td>tigers wary of farrell  gamble  leicester say ...</td>\n",
              "      <td>0</td>\n",
              "      <td>0</td>\n",
              "      <td>0</td>\n",
              "      <td>1</td>\n",
              "      <td>0</td>\n",
              "    </tr>\n",
              "    <tr>\n",
              "      <th>3</th>\n",
              "      <td>yeading face newcastle in fa cup premiership s...</td>\n",
              "      <td>0</td>\n",
              "      <td>0</td>\n",
              "      <td>0</td>\n",
              "      <td>1</td>\n",
              "      <td>0</td>\n",
              "    </tr>\n",
              "    <tr>\n",
              "      <th>4</th>\n",
              "      <td>ocean s twelve raids box office ocean s twelve...</td>\n",
              "      <td>0</td>\n",
              "      <td>1</td>\n",
              "      <td>0</td>\n",
              "      <td>0</td>\n",
              "      <td>0</td>\n",
              "    </tr>\n",
              "    <tr>\n",
              "      <th>...</th>\n",
              "      <td>...</td>\n",
              "      <td>...</td>\n",
              "      <td>...</td>\n",
              "      <td>...</td>\n",
              "      <td>...</td>\n",
              "      <td>...</td>\n",
              "    </tr>\n",
              "    <tr>\n",
              "      <th>2220</th>\n",
              "      <td>cars pull down us retail figures us retail sal...</td>\n",
              "      <td>1</td>\n",
              "      <td>0</td>\n",
              "      <td>0</td>\n",
              "      <td>0</td>\n",
              "      <td>0</td>\n",
              "    </tr>\n",
              "    <tr>\n",
              "      <th>2221</th>\n",
              "      <td>kilroy unveils immigration policy ex-chatshow ...</td>\n",
              "      <td>0</td>\n",
              "      <td>0</td>\n",
              "      <td>1</td>\n",
              "      <td>0</td>\n",
              "      <td>0</td>\n",
              "    </tr>\n",
              "    <tr>\n",
              "      <th>2222</th>\n",
              "      <td>rem announce new glasgow concert us band rem h...</td>\n",
              "      <td>0</td>\n",
              "      <td>1</td>\n",
              "      <td>0</td>\n",
              "      <td>0</td>\n",
              "      <td>0</td>\n",
              "    </tr>\n",
              "    <tr>\n",
              "      <th>2223</th>\n",
              "      <td>how political squabbles snowball it s become c...</td>\n",
              "      <td>0</td>\n",
              "      <td>0</td>\n",
              "      <td>1</td>\n",
              "      <td>0</td>\n",
              "      <td>0</td>\n",
              "    </tr>\n",
              "    <tr>\n",
              "      <th>2224</th>\n",
              "      <td>souness delight at euro progress boss graeme s...</td>\n",
              "      <td>0</td>\n",
              "      <td>0</td>\n",
              "      <td>0</td>\n",
              "      <td>1</td>\n",
              "      <td>0</td>\n",
              "    </tr>\n",
              "  </tbody>\n",
              "</table>\n",
              "<p>2225 rows × 6 columns</p>\n",
              "</div>"
            ],
            "text/plain": [
              "                                                   text  business  ...  sport  tech\n",
              "0     tv future in the hands of viewers with home th...         0  ...      0     1\n",
              "1     worldcom boss  left books alone  former worldc...         1  ...      0     0\n",
              "2     tigers wary of farrell  gamble  leicester say ...         0  ...      1     0\n",
              "3     yeading face newcastle in fa cup premiership s...         0  ...      1     0\n",
              "4     ocean s twelve raids box office ocean s twelve...         0  ...      0     0\n",
              "...                                                 ...       ...  ...    ...   ...\n",
              "2220  cars pull down us retail figures us retail sal...         1  ...      0     0\n",
              "2221  kilroy unveils immigration policy ex-chatshow ...         0  ...      0     0\n",
              "2222  rem announce new glasgow concert us band rem h...         0  ...      0     0\n",
              "2223  how political squabbles snowball it s become c...         0  ...      0     0\n",
              "2224  souness delight at euro progress boss graeme s...         0  ...      1     0\n",
              "\n",
              "[2225 rows x 6 columns]"
            ]
          },
          "metadata": {
            "tags": []
          },
          "execution_count": 6
        }
      ]
    },
    {
      "cell_type": "code",
      "metadata": {
        "id": "6NzlarW8BM3Y"
      },
      "source": [
        "news = df_new['text'].values\n",
        "label = df_new[['tech','business', 'sport', 'politics', 'entertainment']].values"
      ],
      "execution_count": null,
      "outputs": []
    },
    {
      "cell_type": "code",
      "metadata": {
        "id": "aJtPT6ebCMIF"
      },
      "source": [
        "news_train, news_test, label_train, label_test = train_test_split(news, label, test_size = 0.2)"
      ],
      "execution_count": null,
      "outputs": []
    },
    {
      "cell_type": "code",
      "metadata": {
        "id": "CmOqs5TQCf6Z"
      },
      "source": [
        "tokenizer = Tokenizer(num_words = 5000, oov_token = 'x')\n",
        "tokenizer.fit_on_texts(news_train)\n",
        "tokenizer.fit_on_texts(news_test)"
      ],
      "execution_count": null,
      "outputs": []
    },
    {
      "cell_type": "code",
      "metadata": {
        "id": "UlvbmXLwCzC4"
      },
      "source": [
        "sequence_train = tokenizer.texts_to_sequences(news_train)\n",
        "sequence_test = tokenizer.texts_to_sequences(news_test)"
      ],
      "execution_count": null,
      "outputs": []
    },
    {
      "cell_type": "code",
      "metadata": {
        "id": "na-_TnN9C_Dk"
      },
      "source": [
        "pad_train = pad_sequences(sequence_train)\n",
        "pad_test = pad_sequences(sequence_test)"
      ],
      "execution_count": null,
      "outputs": []
    },
    {
      "cell_type": "code",
      "metadata": {
        "id": "1M9g1AqFDQE8"
      },
      "source": [
        "model = tf.keras.Sequential([\n",
        "                             tf.keras.layers.Embedding(input_dim=5000, output_dim=16),\n",
        "                             tf.keras.layers.LSTM(64),\n",
        "                             tf.keras.layers.Dense(128, activation = 'relu'),\n",
        "                             tf.keras.layers.Dropout(0.5),\n",
        "                             tf.keras.layers.Dense(5, activation = 'softmax')])"
      ],
      "execution_count": null,
      "outputs": []
    },
    {
      "cell_type": "code",
      "metadata": {
        "id": "JsrFXaCVDyqP"
      },
      "source": [
        "model.compile(loss = 'categorical_crossentropy', optimizer = 'nadam', metrics = ['accuracy'])"
      ],
      "execution_count": null,
      "outputs": []
    },
    {
      "cell_type": "code",
      "metadata": {
        "id": "PfX2fb0RD_3f"
      },
      "source": [
        "class myCallback(tf.keras.callbacks.Callback):\n",
        "  def on_epoch_end(self, epoch, logs={}):\n",
        "    if(logs.get('accuracy')>0.9 and logs.get('val_accuracy')>0.9):\n",
        "      print(\"\\nAccuration both in training set and validation set has reach more than 90%.\")\n",
        "      self.model.stop_training = True\n",
        "callbacks = myCallback()"
      ],
      "execution_count": null,
      "outputs": []
    },
    {
      "cell_type": "code",
      "metadata": {
        "id": "wYjNMpBUFSJW",
        "outputId": "fc717d1d-49d8-4da3-ca2f-3d785853efc2",
        "colab": {
          "base_uri": "https://localhost:8080/",
          "height": 1000
        }
      },
      "source": [
        "num_epoch = 50\n",
        "history = model.fit(\n",
        "    pad_train, label_train, epochs = num_epoch,\n",
        "    validation_data = (pad_test, label_test),\n",
        "    verbose = 2, callbacks = [callbacks])"
      ],
      "execution_count": null,
      "outputs": [
        {
          "output_type": "stream",
          "text": [
            "Epoch 1/50\n",
            "56/56 - 135s - loss: 1.6140 - accuracy: 0.2343 - val_loss: 1.5917 - val_accuracy: 0.3640\n",
            "Epoch 2/50\n",
            "56/56 - 139s - loss: 1.4724 - accuracy: 0.3702 - val_loss: 1.1679 - val_accuracy: 0.4180\n",
            "Epoch 3/50\n",
            "56/56 - 139s - loss: 1.1390 - accuracy: 0.5388 - val_loss: 0.8807 - val_accuracy: 0.6854\n",
            "Epoch 4/50\n",
            "56/56 - 140s - loss: 0.7085 - accuracy: 0.7449 - val_loss: 0.5716 - val_accuracy: 0.7618\n",
            "Epoch 5/50\n",
            "56/56 - 139s - loss: 0.4637 - accuracy: 0.8388 - val_loss: 0.7478 - val_accuracy: 0.6944\n",
            "Epoch 6/50\n",
            "56/56 - 139s - loss: 0.3166 - accuracy: 0.9107 - val_loss: 0.4556 - val_accuracy: 0.8337\n",
            "Epoch 7/50\n",
            "56/56 - 139s - loss: 0.2308 - accuracy: 0.9337 - val_loss: 0.4801 - val_accuracy: 0.8315\n",
            "Epoch 8/50\n",
            "56/56 - 139s - loss: 0.1364 - accuracy: 0.9669 - val_loss: 0.4055 - val_accuracy: 0.8989\n",
            "Epoch 9/50\n",
            "56/56 - 139s - loss: 0.0903 - accuracy: 0.9798 - val_loss: 0.4822 - val_accuracy: 0.8404\n",
            "Epoch 10/50\n",
            "56/56 - 139s - loss: 0.1476 - accuracy: 0.9607 - val_loss: 0.4871 - val_accuracy: 0.8607\n",
            "Epoch 11/50\n",
            "56/56 - 139s - loss: 0.0557 - accuracy: 0.9921 - val_loss: 0.4309 - val_accuracy: 0.8809\n",
            "Epoch 12/50\n",
            "56/56 - 139s - loss: 0.0192 - accuracy: 0.9978 - val_loss: 0.4200 - val_accuracy: 0.8876\n",
            "Epoch 13/50\n",
            "56/56 - 139s - loss: 0.1346 - accuracy: 0.9725 - val_loss: 0.6614 - val_accuracy: 0.7888\n",
            "Epoch 14/50\n",
            "56/56 - 139s - loss: 0.0285 - accuracy: 0.9978 - val_loss: 0.5147 - val_accuracy: 0.8742\n",
            "Epoch 15/50\n",
            "56/56 - 139s - loss: 0.0121 - accuracy: 0.9978 - val_loss: 0.5366 - val_accuracy: 0.8876\n",
            "Epoch 16/50\n",
            "56/56 - 139s - loss: 0.0073 - accuracy: 1.0000 - val_loss: 0.5493 - val_accuracy: 0.8876\n",
            "Epoch 17/50\n",
            "56/56 - 143s - loss: 0.0047 - accuracy: 1.0000 - val_loss: 0.5532 - val_accuracy: 0.8989\n",
            "Epoch 18/50\n",
            "56/56 - 143s - loss: 0.0977 - accuracy: 0.9753 - val_loss: 0.7686 - val_accuracy: 0.7640\n",
            "Epoch 19/50\n",
            "56/56 - 143s - loss: 0.1210 - accuracy: 0.9702 - val_loss: 0.7423 - val_accuracy: 0.8157\n",
            "Epoch 20/50\n",
            "56/56 - 143s - loss: 0.0129 - accuracy: 1.0000 - val_loss: 0.7134 - val_accuracy: 0.8382\n",
            "Epoch 21/50\n",
            "56/56 - 142s - loss: 0.0054 - accuracy: 1.0000 - val_loss: 0.6673 - val_accuracy: 0.8719\n",
            "Epoch 22/50\n",
            "56/56 - 141s - loss: 0.0036 - accuracy: 1.0000 - val_loss: 0.6679 - val_accuracy: 0.8831\n",
            "Epoch 23/50\n",
            "56/56 - 142s - loss: 0.0027 - accuracy: 1.0000 - val_loss: 0.6485 - val_accuracy: 0.8876\n",
            "Epoch 24/50\n",
            "56/56 - 142s - loss: 0.0021 - accuracy: 1.0000 - val_loss: 0.6477 - val_accuracy: 0.8921\n",
            "Epoch 25/50\n",
            "56/56 - 142s - loss: 0.0019 - accuracy: 1.0000 - val_loss: 0.6330 - val_accuracy: 0.8966\n",
            "Epoch 26/50\n",
            "56/56 - 142s - loss: 0.0017 - accuracy: 1.0000 - val_loss: 0.6422 - val_accuracy: 0.8944\n",
            "Epoch 27/50\n",
            "56/56 - 142s - loss: 0.0015 - accuracy: 1.0000 - val_loss: 0.6325 - val_accuracy: 0.8944\n",
            "Epoch 28/50\n",
            "\n",
            "Accuration both in training set and validation set has reach more than 90%.\n",
            "56/56 - 142s - loss: 0.0012 - accuracy: 1.0000 - val_loss: 0.6567 - val_accuracy: 0.9011\n"
          ],
          "name": "stdout"
        }
      ]
    },
    {
      "cell_type": "code",
      "metadata": {
        "id": "ffrcZvqTVAYG",
        "outputId": "9d54e7e8-4b18-4aab-c3b6-26f29bcf04c5",
        "colab": {
          "base_uri": "https://localhost:8080/",
          "height": 573
        }
      },
      "source": [
        "plt.plot(history.history['accuracy'])\n",
        "plt.plot(history.history['val_accuracy'])\n",
        "plt.title('Accuracy Model')\n",
        "plt.ylabel('accuracy')\n",
        "plt.xlabel('epoch')\n",
        "plt.legend(['train', 'test'], loc = 'lower right')\n",
        "plt.show()\n",
        "\n",
        "plt.plot(history.history['loss'])\n",
        "plt.plot(history.history['val_loss'])\n",
        "plt.title('Loss Model')\n",
        "plt.ylabel('loss')\n",
        "plt.xlabel('epoch')\n",
        "plt.legend(['train', 'test'], loc='upper right')\n",
        "plt.show()"
      ],
      "execution_count": null,
      "outputs": [
        {
          "output_type": "display_data",
          "data": {
            "image/png": "[encoded data removed]",
            "text/plain": [
              "<Figure size 432x288 with 1 Axes>"
            ]
          },
          "metadata": {
            "tags": [],
            "needs_background": "light"
          }
        },
        {
          "output_type": "display_data",
          "data": {
            "image/png": "[encoded data removed]",
            "text/plain": [
              "<Figure size 432x288 with 1 Axes>"
            ]
          },
          "metadata": {
            "tags": [],
            "needs_background": "light"
          }
        }
      ]
    }
  ]
}